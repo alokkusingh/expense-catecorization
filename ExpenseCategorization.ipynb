{
 "cells": [
  {
   "cell_type": "code",
   "execution_count": 1,
   "id": "e8c08794",
   "metadata": {},
   "outputs": [
    {
     "name": "stdout",
     "output_type": "stream",
     "text": [
      "                     date               Head comment  amount      Category\n",
      "0     2019-06-18T18:47:30              T est     NaN     0.0         Other\n",
      "1     2019-06-18T19:35:05         Vegetables     NaN   430.0       Grocery\n",
      "2     2019-06-18T20:03:44      Bathla ladder     NaN  2199.0     Household\n",
      "3     2019-06-18T20:05:52        Vegetables      NaN   405.0       Grocery\n",
      "4     2019-06-18T20:06:09             Pizza      NaN   310.0  Food Outside\n",
      "...                   ...                ...     ...     ...           ...\n",
      "4512  2024-06-24T16:38:27         Groceries      NaN   313.0       Grocery\n",
      "4513  2024-06-26T10:56:21         Groceries      NaN   865.0       Grocery\n",
      "4514  2024-06-26T10:56:47         Groceries      NaN   301.0       Grocery\n",
      "4515  2024-06-26T10:57:21  Vegetable + milk      NaN   500.0          Milk\n",
      "4516  2024-06-27T10:34:15             diesel             0.0          Fuel\n",
      "\n",
      "[4517 rows x 5 columns]\n",
      "                     date               Head comment  amount      Category\n",
      "0     2019-06-18T18:47:30              T est     NaN     0.0         Other\n",
      "1     2019-06-18T19:35:05         Vegetables     NaN   430.0       Grocery\n",
      "2     2019-06-18T20:03:44      Bathla ladder     NaN  2199.0     Household\n",
      "3     2019-06-18T20:05:52        Vegetables      NaN   405.0       Grocery\n",
      "4     2019-06-18T20:06:09             Pizza      NaN   310.0  Food Outside\n",
      "...                   ...                ...     ...     ...           ...\n",
      "4513  2024-06-26T10:56:21         Groceries      NaN   865.0       Grocery\n",
      "4514  2024-06-26T10:56:47         Groceries      NaN   301.0       Grocery\n",
      "4515  2024-06-26T10:57:21  Vegetable + milk      NaN   500.0          Milk\n",
      "4516  2024-06-27T10:34:15             diesel             0.0          Fuel\n",
      "4517  2024-06-27T10:34:15         Ac fitting             0.0    Appliances\n",
      "\n",
      "[4518 rows x 5 columns]\n",
      "                     date               Head comment  amount      Category\n",
      "0     2019-06-18T18:47:30              T est     NaN     0.0         Other\n",
      "1     2019-06-18T19:35:05         Vegetables     NaN   430.0       Grocery\n",
      "2     2019-06-18T20:03:44      Bathla ladder     NaN  2199.0     Household\n",
      "3     2019-06-18T20:05:52        Vegetables      NaN   405.0       Grocery\n",
      "4     2019-06-18T20:06:09             Pizza      NaN   310.0  Food Outside\n",
      "...                   ...                ...     ...     ...           ...\n",
      "4514  2024-06-26T10:56:47         Groceries      NaN   301.0       Grocery\n",
      "4515  2024-06-26T10:57:21  Vegetable + milk      NaN   500.0          Milk\n",
      "4516  2024-06-27T10:34:15             diesel             0.0          Fuel\n",
      "4517  2024-06-27T10:34:15         Ac fitting             0.0    Appliances\n",
      "4518  2024-06-27T10:34:15              2 ACs             0.0    Appliances\n",
      "\n",
      "[4519 rows x 5 columns]\n",
      "                     date               Head comment  amount      Category\n",
      "0     2019-06-18T18:47:30              T est     NaN     0.0         Other\n",
      "1     2019-06-18T19:35:05         Vegetables     NaN   430.0       Grocery\n",
      "2     2019-06-18T20:03:44      Bathla ladder     NaN  2199.0     Household\n",
      "3     2019-06-18T20:05:52        Vegetables      NaN   405.0       Grocery\n",
      "4     2019-06-18T20:06:09             Pizza      NaN   310.0  Food Outside\n",
      "...                   ...                ...     ...     ...           ...\n",
      "4515  2024-06-26T10:57:21  Vegetable + milk      NaN   500.0          Milk\n",
      "4516  2024-06-27T10:34:15             diesel             0.0          Fuel\n",
      "4517  2024-06-27T10:34:15         Ac fitting             0.0    Appliances\n",
      "4518  2024-06-27T10:34:15              2 ACs             0.0    Appliances\n",
      "4519  2024-06-27T10:34:15      Air Condition             0.0    Appliances\n",
      "\n",
      "[4520 rows x 5 columns]\n",
      "                     date           Head comment  amount      Category\n",
      "0     2019-06-18T18:47:30          T est     NaN     0.0         Other\n",
      "1     2019-06-18T19:35:05     Vegetables     NaN   430.0       Grocery\n",
      "2     2019-06-18T20:03:44  Bathla ladder     NaN  2199.0     Household\n",
      "3     2019-06-18T20:05:52    Vegetables      NaN   405.0       Grocery\n",
      "4     2019-06-18T20:06:09         Pizza      NaN   310.0  Food Outside\n",
      "...                   ...            ...     ...     ...           ...\n",
      "4516  2024-06-27T10:34:15         diesel             0.0          Fuel\n",
      "4517  2024-06-27T10:34:15     Ac fitting             0.0    Appliances\n",
      "4518  2024-06-27T10:34:15          2 ACs             0.0    Appliances\n",
      "4519  2024-06-27T10:34:15  Air Condition             0.0    Appliances\n",
      "4520  2024-06-27T10:34:15       Printout             0.0     Education\n",
      "\n",
      "[4521 rows x 5 columns]\n",
      "                     date           Head comment  amount      Category\n",
      "0     2019-06-18T18:47:30          T est     NaN     0.0         Other\n",
      "1     2019-06-18T19:35:05     Vegetables     NaN   430.0       Grocery\n",
      "2     2019-06-18T20:03:44  Bathla ladder     NaN  2199.0     Household\n",
      "3     2019-06-18T20:05:52    Vegetables      NaN   405.0       Grocery\n",
      "4     2019-06-18T20:06:09         Pizza      NaN   310.0  Food Outside\n",
      "...                   ...            ...     ...     ...           ...\n",
      "4517  2024-06-27T10:34:15     Ac fitting             0.0    Appliances\n",
      "4518  2024-06-27T10:34:15          2 ACs             0.0    Appliances\n",
      "4519  2024-06-27T10:34:15  Air Condition             0.0    Appliances\n",
      "4520  2024-06-27T10:34:15       Printout             0.0     Education\n",
      "4521  2024-06-27T10:34:15  Coconut water             0.0       Grocery\n",
      "\n",
      "[4522 rows x 5 columns]\n",
      "                     date           Head comment  amount      Category\n",
      "0     2019-06-18T18:47:30          T est     NaN     0.0         Other\n",
      "1     2019-06-18T19:35:05     Vegetables     NaN   430.0       Grocery\n",
      "2     2019-06-18T20:03:44  Bathla ladder     NaN  2199.0     Household\n",
      "3     2019-06-18T20:05:52    Vegetables      NaN   405.0       Grocery\n",
      "4     2019-06-18T20:06:09         Pizza      NaN   310.0  Food Outside\n",
      "...                   ...            ...     ...     ...           ...\n",
      "4518  2024-06-27T10:34:15          2 ACs             0.0    Appliances\n",
      "4519  2024-06-27T10:34:15  Air Condition             0.0    Appliances\n",
      "4520  2024-06-27T10:34:15       Printout             0.0     Education\n",
      "4521  2024-06-27T10:34:15  Coconut water             0.0       Grocery\n",
      "4522  2024-06-27T10:34:15        paintor             0.0   Maintenance\n",
      "\n",
      "[4523 rows x 5 columns]\n"
     ]
    }
   ],
   "source": [
    "import pandas as pd\n",
    "import matplotlib.pyplot as plt\n",
    "from sklearn.feature_extraction.text import TfidfVectorizer\n",
    "from sklearn.feature_selection import chi2\n",
    "import numpy as np\n",
    "from sklearn.model_selection import train_test_split\n",
    "from sklearn.feature_extraction.text import CountVectorizer\n",
    "from sklearn.feature_extraction.text import TfidfTransformer\n",
    "from sklearn.naive_bayes import MultinomialNB\n",
    "from sklearn.linear_model import LogisticRegression\n",
    "from sklearn.ensemble import RandomForestClassifier\n",
    "from sklearn.svm import LinearSVC\n",
    "from sklearn.model_selection import cross_val_score\n",
    "from sklearn import metrics\n",
    "from datetime import datetime\n",
    "import joblib\n",
    "\n",
    "expense_data = pd.read_csv(\"~/Downloads/Expense Sheet - Categorized.csv\");\n",
    "expense_data.rename(columns = {'head':'Head', 'category':'Category'}, inplace = True)\n",
    "\n",
    "heads = ['date', 'Head', 'comment', 'amount', 'Category']\n",
    "additional_train_datas = [\n",
    "    [(datetime.now().strftime(\"%Y-%m-%dT%H:%M:%S\"), 'diesel', '', 0.0, 'Fuel')],\n",
    "    [(datetime.now().strftime(\"%Y-%m-%dT%H:%M:%S\"), 'Ac fitting', '', 0.0, 'Appliances')],\n",
    "    [(datetime.now().strftime(\"%Y-%m-%dT%H:%M:%S\"), '2 ACs', '', 0.0, 'Appliances')],\n",
    "    [(datetime.now().strftime(\"%Y-%m-%dT%H:%M:%S\"), 'Air Condition', '', 0.0, 'Appliances')],\n",
    "    [(datetime.now().strftime(\"%Y-%m-%dT%H:%M:%S\"), 'Printout', '', 0.0, 'Education')],\n",
    "    [(datetime.now().strftime(\"%Y-%m-%dT%H:%M:%S\"), 'Coconut water', '', 0.0, 'Grocery')],\n",
    "    [(datetime.now().strftime(\"%Y-%m-%dT%H:%M:%S\"), 'paintor', '', 0.0, 'Maintenance')]\n",
    "]\n",
    "for additional_train_data in additional_train_datas:\n",
    "    additional_train_data_df = pd.DataFrame.from_records(additional_train_data, columns=heads)\n",
    "    expense_data = pd.concat([expense_data, additional_train_data_df], ignore_index=True)\n",
    "\n",
    "    print(expense_data)\n",
    "#expense_data.head\n",
    "\n",
    "\n",
    "#X = expense_data.drop(columns=['date', 'amount', 'comment', 'Category']);\n",
    "#y = expense_data['Category'];\n",
    "#X.head\n",
    "\n"
   ]
  },
  {
   "cell_type": "code",
   "execution_count": 2,
   "id": "c81184be",
   "metadata": {},
   "outputs": [
    {
     "data": {
      "text/html": [
       "<div>\n",
       "<style scoped>\n",
       "    .dataframe tbody tr th:only-of-type {\n",
       "        vertical-align: middle;\n",
       "    }\n",
       "\n",
       "    .dataframe tbody tr th {\n",
       "        vertical-align: top;\n",
       "    }\n",
       "\n",
       "    .dataframe thead th {\n",
       "        text-align: right;\n",
       "    }\n",
       "</style>\n",
       "<table border=\"1\" class=\"dataframe\">\n",
       "  <thead>\n",
       "    <tr style=\"text-align: right;\">\n",
       "      <th></th>\n",
       "      <th>date</th>\n",
       "      <th>Head</th>\n",
       "      <th>comment</th>\n",
       "      <th>amount</th>\n",
       "      <th>Category</th>\n",
       "      <th>category_id</th>\n",
       "    </tr>\n",
       "  </thead>\n",
       "  <tbody>\n",
       "    <tr>\n",
       "      <th>0</th>\n",
       "      <td>2019-06-18T18:47:30</td>\n",
       "      <td>T est</td>\n",
       "      <td>NaN</td>\n",
       "      <td>0.0</td>\n",
       "      <td>Other</td>\n",
       "      <td>0</td>\n",
       "    </tr>\n",
       "    <tr>\n",
       "      <th>1</th>\n",
       "      <td>2019-06-18T19:35:05</td>\n",
       "      <td>Vegetables</td>\n",
       "      <td>NaN</td>\n",
       "      <td>430.0</td>\n",
       "      <td>Grocery</td>\n",
       "      <td>1</td>\n",
       "    </tr>\n",
       "    <tr>\n",
       "      <th>2</th>\n",
       "      <td>2019-06-18T20:03:44</td>\n",
       "      <td>Bathla ladder</td>\n",
       "      <td>NaN</td>\n",
       "      <td>2199.0</td>\n",
       "      <td>Household</td>\n",
       "      <td>2</td>\n",
       "    </tr>\n",
       "    <tr>\n",
       "      <th>3</th>\n",
       "      <td>2019-06-18T20:05:52</td>\n",
       "      <td>Vegetables</td>\n",
       "      <td>NaN</td>\n",
       "      <td>405.0</td>\n",
       "      <td>Grocery</td>\n",
       "      <td>1</td>\n",
       "    </tr>\n",
       "    <tr>\n",
       "      <th>4</th>\n",
       "      <td>2019-06-18T20:06:09</td>\n",
       "      <td>Pizza</td>\n",
       "      <td>NaN</td>\n",
       "      <td>310.0</td>\n",
       "      <td>Food Outside</td>\n",
       "      <td>3</td>\n",
       "    </tr>\n",
       "    <tr>\n",
       "      <th>...</th>\n",
       "      <td>...</td>\n",
       "      <td>...</td>\n",
       "      <td>...</td>\n",
       "      <td>...</td>\n",
       "      <td>...</td>\n",
       "      <td>...</td>\n",
       "    </tr>\n",
       "    <tr>\n",
       "      <th>4518</th>\n",
       "      <td>2024-06-27T10:34:15</td>\n",
       "      <td>2 ACs</td>\n",
       "      <td></td>\n",
       "      <td>0.0</td>\n",
       "      <td>Appliances</td>\n",
       "      <td>16</td>\n",
       "    </tr>\n",
       "    <tr>\n",
       "      <th>4519</th>\n",
       "      <td>2024-06-27T10:34:15</td>\n",
       "      <td>Air Condition</td>\n",
       "      <td></td>\n",
       "      <td>0.0</td>\n",
       "      <td>Appliances</td>\n",
       "      <td>16</td>\n",
       "    </tr>\n",
       "    <tr>\n",
       "      <th>4520</th>\n",
       "      <td>2024-06-27T10:34:15</td>\n",
       "      <td>Printout</td>\n",
       "      <td></td>\n",
       "      <td>0.0</td>\n",
       "      <td>Education</td>\n",
       "      <td>7</td>\n",
       "    </tr>\n",
       "    <tr>\n",
       "      <th>4521</th>\n",
       "      <td>2024-06-27T10:34:15</td>\n",
       "      <td>Coconut water</td>\n",
       "      <td></td>\n",
       "      <td>0.0</td>\n",
       "      <td>Grocery</td>\n",
       "      <td>1</td>\n",
       "    </tr>\n",
       "    <tr>\n",
       "      <th>4522</th>\n",
       "      <td>2024-06-27T10:34:15</td>\n",
       "      <td>paintor</td>\n",
       "      <td></td>\n",
       "      <td>0.0</td>\n",
       "      <td>Maintenance</td>\n",
       "      <td>9</td>\n",
       "    </tr>\n",
       "  </tbody>\n",
       "</table>\n",
       "<p>4523 rows × 6 columns</p>\n",
       "</div>"
      ],
      "text/plain": [
       "                     date           Head comment  amount      Category  \\\n",
       "0     2019-06-18T18:47:30          T est     NaN     0.0         Other   \n",
       "1     2019-06-18T19:35:05     Vegetables     NaN   430.0       Grocery   \n",
       "2     2019-06-18T20:03:44  Bathla ladder     NaN  2199.0     Household   \n",
       "3     2019-06-18T20:05:52    Vegetables      NaN   405.0       Grocery   \n",
       "4     2019-06-18T20:06:09         Pizza      NaN   310.0  Food Outside   \n",
       "...                   ...            ...     ...     ...           ...   \n",
       "4518  2024-06-27T10:34:15          2 ACs             0.0    Appliances   \n",
       "4519  2024-06-27T10:34:15  Air Condition             0.0    Appliances   \n",
       "4520  2024-06-27T10:34:15       Printout             0.0     Education   \n",
       "4521  2024-06-27T10:34:15  Coconut water             0.0       Grocery   \n",
       "4522  2024-06-27T10:34:15        paintor             0.0   Maintenance   \n",
       "\n",
       "      category_id  \n",
       "0               0  \n",
       "1               1  \n",
       "2               2  \n",
       "3               1  \n",
       "4               3  \n",
       "...           ...  \n",
       "4518           16  \n",
       "4519           16  \n",
       "4520            7  \n",
       "4521            1  \n",
       "4522            9  \n",
       "\n",
       "[4523 rows x 6 columns]"
      ]
     },
     "execution_count": 2,
     "metadata": {},
     "output_type": "execute_result"
    }
   ],
   "source": [
    "expense_data['category_id'] = expense_data['Category'].factorize()[0]\n",
    "category_id_expense = expense_data[['Category', 'category_id']].drop_duplicates().sort_values('category_id')\n",
    "category_to_id = dict(category_id_expense.values)\n",
    "id_to_category = dict(category_id_expense[['category_id', 'Category']].values)\n",
    "expense_data"
   ]
  },
  {
   "cell_type": "code",
   "execution_count": 3,
   "id": "cdb4104c",
   "metadata": {},
   "outputs": [
    {
     "data": {
      "image/png": "[encoded data removed]",
      "text/plain": [
       "<Figure size 800x600 with 1 Axes>"
      ]
     },
     "metadata": {},
     "output_type": "display_data"
    }
   ],
   "source": [
    "fig = plt.figure(figsize=(8,6))\n",
    "expense_data.groupby('Category').Head.count().plot.bar(ylim=0)\n",
    "plt.show()"
   ]
  },
  {
   "cell_type": "code",
   "execution_count": 4,
   "id": "60a71421",
   "metadata": {},
   "outputs": [
    {
     "data": {
      "text/plain": [
       "(4523, 200)"
      ]
     },
     "execution_count": 4,
     "metadata": {},
     "output_type": "execute_result"
    }
   ],
   "source": [
    "tfidf = TfidfVectorizer(sublinear_tf=True, min_df=5, norm='l2', encoding='latin-1', ngram_range=(1, 2), stop_words='english')\n",
    "features = tfidf.fit_transform(expense_data.Head).toarray()\n",
    "labels = expense_data.category_id\n",
    "features.shape"
   ]
  },
  {
   "cell_type": "code",
   "execution_count": 5,
   "id": "0b430bcd",
   "metadata": {},
   "outputs": [
    {
     "name": "stdout",
     "output_type": "stream",
     "text": [
      "# 'Accessories':\n",
      "  . Most correlated unigrams:\n",
      ". accessories\n",
      ". shopping\n",
      "  . Most correlated bigrams:\n",
      ". baby dress\n",
      ". cuckoo dress\n",
      "# 'Appliances':\n",
      "  . Most correlated unigrams:\n",
      ". machine\n",
      ". washing\n",
      "  . Most correlated bigrams:\n",
      ". mobile recharge\n",
      ". washing machine\n",
      "# 'Baby Care':\n",
      "  . Most correlated unigrams:\n",
      ". diapers\n",
      ". baby\n",
      "  . Most correlated bigrams:\n",
      ". baby wipes\n",
      ". baby care\n",
      "# 'Bills':\n",
      "  . Most correlated unigrams:\n",
      ". broadband\n",
      ". mobile\n",
      "  . Most correlated bigrams:\n",
      ". netflix recharge\n",
      ". mobile recharge\n",
      "# 'Celebration':\n",
      "  . Most correlated unigrams:\n",
      ". item\n",
      ". celebration\n",
      "  . Most correlated bigrams:\n",
      ". doctor consultation\n",
      ". mobile recharge\n",
      "# 'Education':\n",
      "  . Most correlated unigrams:\n",
      ". book\n",
      ". xerox\n",
      "  . Most correlated bigrams:\n",
      ". doctor consultation\n",
      ". mobile recharge\n",
      "# 'Electronics':\n",
      "  . Most correlated unigrams:\n",
      ". watch\n",
      ". electronics\n",
      "  . Most correlated bigrams:\n",
      ". doctor consultation\n",
      ". mobile recharge\n",
      "# 'Entertainment':\n",
      "  . Most correlated unigrams:\n",
      ". vegetable\n",
      ". groceries\n",
      "  . Most correlated bigrams:\n",
      ". doctor consultation\n",
      ". mobile recharge\n",
      "# 'Food Outside':\n",
      "  . Most correlated unigrams:\n",
      ". water\n",
      ". snacks\n",
      "  . Most correlated bigrams:\n",
      ". food outside\n",
      ". coconut water\n",
      "# 'Fuel':\n",
      "  . Most correlated unigrams:\n",
      ". scooter\n",
      ". petrol\n",
      "  . Most correlated bigrams:\n",
      ". doctor consultation\n",
      ". mobile recharge\n",
      "# 'Furniture':\n",
      "  . Most correlated unigrams:\n",
      ". ladder\n",
      ". urban\n",
      "  . Most correlated bigrams:\n",
      ". doctor consultation\n",
      ". mobile recharge\n",
      "# 'Gift':\n",
      "  . Most correlated unigrams:\n",
      ". rakhi\n",
      ". gift\n",
      "  . Most correlated bigrams:\n",
      ". doctor consultation\n",
      ". mobile recharge\n",
      "# 'Grocery':\n",
      "  . Most correlated unigrams:\n",
      ". vegetable\n",
      ". groceries\n",
      "  . Most correlated bigrams:\n",
      ". fruits vegetables\n",
      ". pooja items\n",
      "# 'Grooming':\n",
      "  . Most correlated unigrams:\n",
      ". cosmetics\n",
      ". parlour\n",
      "  . Most correlated bigrams:\n",
      ". mobile recharge\n",
      ". hair cut\n",
      "# 'House Help':\n",
      "  . Most correlated unigrams:\n",
      ". cook\n",
      ". maid\n",
      "  . Most correlated bigrams:\n",
      ". doctor consultation\n",
      ". mobile recharge\n",
      "# 'Household':\n",
      "  . Most correlated unigrams:\n",
      ". kitchen\n",
      ". mop\n",
      "  . Most correlated bigrams:\n",
      ". doctor consultation\n",
      ". mobile recharge\n",
      "# 'Maintenance':\n",
      "  . Most correlated unigrams:\n",
      ". lights\n",
      ". maintenance\n",
      "  . Most correlated bigrams:\n",
      ". washing machine\n",
      ". mobile recharge\n",
      "# 'Medical':\n",
      "  . Most correlated unigrams:\n",
      ". doctor\n",
      ". medicine\n",
      "  . Most correlated bigrams:\n",
      ". blood test\n",
      ". doctor consultation\n",
      "# 'Milk':\n",
      "  . Most correlated unigrams:\n",
      ". powder\n",
      ". milk\n",
      "  . Most correlated bigrams:\n",
      ". baby milk\n",
      ". milk powder\n",
      "# 'Other':\n",
      "  . Most correlated unigrams:\n",
      ". flowers\n",
      ". flower\n",
      "  . Most correlated bigrams:\n",
      ". doctor consultation\n",
      ". mobile recharge\n",
      "# 'Shopping':\n",
      "  . Most correlated unigrams:\n",
      ". groceries\n",
      ". amazon\n",
      "  . Most correlated bigrams:\n",
      ". doctor consultation\n",
      ". mobile recharge\n",
      "# 'Toys':\n",
      "  . Most correlated unigrams:\n",
      ". scooter\n",
      ". toys\n",
      "  . Most correlated bigrams:\n",
      ". doctor consultation\n",
      ". mobile recharge\n",
      "# 'Travel':\n",
      "  . Most correlated unigrams:\n",
      ". taxi\n",
      ". auto\n",
      "  . Most correlated bigrams:\n",
      ". train ticket\n",
      ". flight ticket\n"
     ]
    }
   ],
   "source": [
    "N = 2\n",
    "for Product, category_id in sorted(category_to_id.items()):\n",
    "  features_chi2 = chi2(features, labels == category_id)\n",
    "  indices = np.argsort(features_chi2[0])\n",
    "  feature_names = np.array(tfidf.get_feature_names_out())[indices]\n",
    "  unigrams = [v for v in feature_names if len(v.split(' ')) == 1]\n",
    "  bigrams = [v for v in feature_names if len(v.split(' ')) == 2]\n",
    "  print(\"# '{}':\".format(Product))\n",
    "  print(\"  . Most correlated unigrams:\\n. {}\".format('\\n. '.join(unigrams[-N:])))\n",
    "  print(\"  . Most correlated bigrams:\\n. {}\".format('\\n. '.join(bigrams[-N:])))"
   ]
  },
  {
   "cell_type": "code",
   "execution_count": 6,
   "id": "1a6e6e47",
   "metadata": {},
   "outputs": [
    {
     "name": "stdout",
     "output_type": "stream",
     "text": [
      "               precision    recall  f1-score   support\n",
      "\n",
      "  Accessories       1.00      1.00      1.00       303\n",
      "   Appliances       1.00      0.95      0.97        19\n",
      "    Baby Care       0.98      1.00      0.99       119\n",
      "        Bills       1.00      1.00      1.00       336\n",
      "  Celebration       0.95      1.00      0.97        18\n",
      "    Education       0.99      1.00      0.99        82\n",
      "  Electronics       0.95      0.98      0.97        43\n",
      "Entertainment       1.00      1.00      1.00         4\n",
      " Food Outside       1.00      0.99      1.00       514\n",
      "         Fuel       1.00      1.00      1.00        80\n",
      "    Furniture       1.00      1.00      1.00         7\n",
      "         Gift       1.00      1.00      1.00       102\n",
      "      Grocery       1.00      1.00      1.00      1509\n",
      "     Grooming       0.99      1.00      1.00       153\n",
      "   House Help       1.00      0.98      0.99       137\n",
      "    Household       0.95      0.95      0.95        56\n",
      "  Maintenance       0.98      0.99      0.99       179\n",
      "      Medical       1.00      1.00      1.00       353\n",
      "         Milk       1.00      1.00      1.00       236\n",
      "        Other       0.98      0.88      0.93        60\n",
      "     Shopping       1.00      1.00      1.00         7\n",
      "         Toys       1.00      1.00      1.00        34\n",
      "       Travel       1.00      1.00      1.00       167\n",
      "\n",
      "     accuracy                           1.00      4518\n",
      "    macro avg       0.99      0.99      0.99      4518\n",
      " weighted avg       1.00      1.00      1.00      4518\n",
      "\n"
     ]
    }
   ],
   "source": [
    "#expense_data['HeadAndCommentAndAmount'] = expense_data['Head'].astype(str) + '-' + expense_data['Comment'].astype(str)\n",
    "X_train, X_test, y_train, y_test = train_test_split(\n",
    "    expense_data['Head'], expense_data['Category'], test_size=.001, random_state = 0\n",
    ")\n",
    "\n",
    "count_vect = CountVectorizer()\n",
    "X_train_counts = count_vect.fit_transform(X_train)\n",
    "tfidf_transformer = TfidfTransformer()\n",
    "X_train_tfidf = tfidf_transformer.fit_transform(X_train_counts)\n",
    "\n",
    "clf = LogisticRegression(fit_intercept=False).fit(X_train_tfidf, y_train)\n",
    "#clf = RandomForestClassifier(n_estimators=200, max_depth=3, random_state=0).fit(X_train_tfidf, y_train)\n",
    "#clf = MultinomialNB().fit(X_train_tfidf, y_train)\n",
    "#clf = LinearSVC().fit(X_train_tfidf, y_train)\n",
    "\n",
    "y_predicted = clf.predict(X_train_tfidf)\n",
    "print(metrics.classification_report(y_train, y_predicted))"
   ]
  },
  {
   "cell_type": "code",
   "execution_count": 7,
   "id": "ee2e2dd2",
   "metadata": {},
   "outputs": [
    {
     "name": "stdout",
     "output_type": "stream",
     "text": [
      "['Household']\n"
     ]
    }
   ],
   "source": [
    "results = clf.predict(count_vect.transform([\"Shipper\"]))\n",
    "#prob_per_class_dictionary = dict(zip(model.classes_, results))\n",
    "\n",
    "print(results)"
   ]
  },
  {
   "cell_type": "code",
   "execution_count": 8,
   "id": "37ef59e7",
   "metadata": {},
   "outputs": [],
   "source": [
    "joblib.dump(clf, '/Users/aloksingh/git/expense-catecorization/expense-categorization-mdl.joblib');"
   ]
  },
  {
   "cell_type": "code",
   "execution_count": 9,
   "id": "c8b5083f",
   "metadata": {},
   "outputs": [],
   "source": [
    "joblib.dump(count_vect, '/Users/aloksingh/git/expense-catecorization/expense-categorization-vct.joblib');"
   ]
  },
  {
   "cell_type": "code",
   "execution_count": 10,
   "id": "0a74d593",
   "metadata": {},
   "outputs": [
    {
     "name": "stdout",
     "output_type": "stream",
     "text": [
      "               precision    recall  f1-score   support\n",
      "\n",
      "  Accessories       1.00      1.00      1.00       303\n",
      "   Appliances       1.00      1.00      1.00        19\n",
      "    Baby Care       0.99      1.00      1.00       119\n",
      "        Bills       1.00      1.00      1.00       336\n",
      "  Celebration       1.00      1.00      1.00        18\n",
      "    Education       1.00      1.00      1.00        82\n",
      "  Electronics       1.00      1.00      1.00        43\n",
      "Entertainment       1.00      1.00      1.00         4\n",
      " Food Outside       1.00      1.00      1.00       514\n",
      "         Fuel       1.00      1.00      1.00        80\n",
      "    Furniture       1.00      1.00      1.00         7\n",
      "         Gift       1.00      1.00      1.00       102\n",
      "      Grocery       1.00      1.00      1.00      1509\n",
      "     Grooming       0.99      1.00      1.00       153\n",
      "   House Help       1.00      1.00      1.00       137\n",
      "    Household       1.00      1.00      1.00        56\n",
      "  Maintenance       1.00      1.00      1.00       179\n",
      "      Medical       1.00      1.00      1.00       353\n",
      "         Milk       1.00      1.00      1.00       236\n",
      "        Other       1.00      0.98      0.99        60\n",
      "     Shopping       1.00      1.00      1.00         7\n",
      "         Toys       1.00      1.00      1.00        34\n",
      "       Travel       1.00      1.00      1.00       167\n",
      "\n",
      "     accuracy                           1.00      4518\n",
      "    macro avg       1.00      1.00      1.00      4518\n",
      " weighted avg       1.00      1.00      1.00      4518\n",
      "\n"
     ]
    },
    {
     "name": "stderr",
     "output_type": "stream",
     "text": [
      "/Users/aloksingh/anaconda3/lib/python3.11/site-packages/sklearn/svm/_classes.py:32: FutureWarning: The default value of `dual` will change from `True` to `'auto'` in 1.5. Set the value of `dual` explicitly to suppress the warning.\n",
      "  warnings.warn(\n"
     ]
    }
   ],
   "source": [
    "clf_LSVC = LinearSVC().fit(X_train_tfidf, y_train)\n",
    "\n",
    "y_predicted = clf_LSVC.predict(X_train_tfidf)\n",
    "print(metrics.classification_report(y_train, y_predicted))"
   ]
  },
  {
   "cell_type": "code",
   "execution_count": 24,
   "id": "314a3b3d",
   "metadata": {},
   "outputs": [
    {
     "name": "stdout",
     "output_type": "stream",
     "text": [
      "['Household']\n"
     ]
    }
   ],
   "source": [
    "results = clf_LSVC.predict(count_vect.transform([\"Aquarium\"]))\n",
    "\n",
    "print(results)"
   ]
  },
  {
   "cell_type": "code",
   "execution_count": 12,
   "id": "6d7e7fdd",
   "metadata": {},
   "outputs": [],
   "source": [
    "joblib.dump(clf_LSVC, '/Users/aloksingh/git/expense-catecorization/expense-categorization-LSVC-mdl.joblib');"
   ]
  },
  {
   "cell_type": "code",
   "execution_count": 13,
   "id": "254e9a9c",
   "metadata": {},
   "outputs": [
    {
     "name": "stdout",
     "output_type": "stream",
     "text": [
      "               precision    recall  f1-score   support\n",
      "\n",
      "  Accessories       0.98      0.95      0.96       303\n",
      "   Appliances       0.00      0.00      0.00        19\n",
      "    Baby Care       0.98      0.79      0.87       119\n",
      "        Bills       0.97      1.00      0.98       336\n",
      "  Celebration       0.00      0.00      0.00        18\n",
      "    Education       1.00      0.68      0.81        82\n",
      "  Electronics       1.00      0.09      0.17        43\n",
      "Entertainment       0.00      0.00      0.00         4\n",
      " Food Outside       0.96      1.00      0.98       514\n",
      "         Fuel       1.00      0.94      0.97        80\n",
      "    Furniture       0.00      0.00      0.00         7\n",
      "         Gift       0.98      0.83      0.90       102\n",
      "      Grocery       0.83      1.00      0.91      1509\n",
      "     Grooming       1.00      0.89      0.94       153\n",
      "   House Help       1.00      0.93      0.97       137\n",
      "    Household       0.00      0.00      0.00        56\n",
      "  Maintenance       0.99      0.91      0.95       179\n",
      "      Medical       0.99      0.99      0.99       353\n",
      "         Milk       0.98      0.97      0.98       236\n",
      "        Other       1.00      0.22      0.36        60\n",
      "     Shopping       0.00      0.00      0.00         7\n",
      "         Toys       1.00      0.68      0.81        34\n",
      "       Travel       1.00      0.96      0.98       167\n",
      "\n",
      "     accuracy                           0.92      4518\n",
      "    macro avg       0.72      0.60      0.63      4518\n",
      " weighted avg       0.91      0.92      0.90      4518\n",
      "\n"
     ]
    },
    {
     "name": "stderr",
     "output_type": "stream",
     "text": [
      "/Users/aloksingh/anaconda3/lib/python3.11/site-packages/sklearn/metrics/_classification.py:1469: UndefinedMetricWarning: Precision and F-score are ill-defined and being set to 0.0 in labels with no predicted samples. Use `zero_division` parameter to control this behavior.\n",
      "  _warn_prf(average, modifier, msg_start, len(result))\n",
      "/Users/aloksingh/anaconda3/lib/python3.11/site-packages/sklearn/metrics/_classification.py:1469: UndefinedMetricWarning: Precision and F-score are ill-defined and being set to 0.0 in labels with no predicted samples. Use `zero_division` parameter to control this behavior.\n",
      "  _warn_prf(average, modifier, msg_start, len(result))\n",
      "/Users/aloksingh/anaconda3/lib/python3.11/site-packages/sklearn/metrics/_classification.py:1469: UndefinedMetricWarning: Precision and F-score are ill-defined and being set to 0.0 in labels with no predicted samples. Use `zero_division` parameter to control this behavior.\n",
      "  _warn_prf(average, modifier, msg_start, len(result))\n"
     ]
    }
   ],
   "source": [
    "clf_MNB = MultinomialNB().fit(X_train_tfidf, y_train)\n",
    "\n",
    "y_predicted = clf_MNB.predict(X_train_tfidf)\n",
    "print(metrics.classification_report(y_train, y_predicted))"
   ]
  },
  {
   "cell_type": "code",
   "execution_count": 14,
   "id": "72f455a4",
   "metadata": {},
   "outputs": [
    {
     "name": "stdout",
     "output_type": "stream",
     "text": [
      "               precision    recall  f1-score   support\n",
      "\n",
      "  Accessories       0.00      0.00      0.00       303\n",
      "   Appliances       0.00      0.00      0.00        19\n",
      "    Baby Care       0.00      0.00      0.00       119\n",
      "        Bills       1.00      0.00      0.01       336\n",
      "  Celebration       0.00      0.00      0.00        18\n",
      "    Education       0.00      0.00      0.00        82\n",
      "  Electronics       0.00      0.00      0.00        43\n",
      "Entertainment       0.00      0.00      0.00         4\n",
      " Food Outside       0.00      0.00      0.00       514\n",
      "         Fuel       0.00      0.00      0.00        80\n",
      "    Furniture       0.00      0.00      0.00         7\n",
      "         Gift       0.00      0.00      0.00       102\n",
      "      Grocery       0.33      1.00      0.50      1509\n",
      "     Grooming       0.00      0.00      0.00       153\n",
      "   House Help       0.00      0.00      0.00       137\n",
      "    Household       0.00      0.00      0.00        56\n",
      "  Maintenance       0.00      0.00      0.00       179\n",
      "      Medical       0.00      0.00      0.00       353\n",
      "         Milk       0.00      0.00      0.00       236\n",
      "        Other       0.00      0.00      0.00        60\n",
      "     Shopping       0.00      0.00      0.00         7\n",
      "         Toys       0.00      0.00      0.00        34\n",
      "       Travel       0.00      0.00      0.00       167\n",
      "\n",
      "     accuracy                           0.33      4518\n",
      "    macro avg       0.06      0.04      0.02      4518\n",
      " weighted avg       0.19      0.33      0.17      4518\n",
      "\n"
     ]
    },
    {
     "name": "stderr",
     "output_type": "stream",
     "text": [
      "/Users/aloksingh/anaconda3/lib/python3.11/site-packages/sklearn/metrics/_classification.py:1469: UndefinedMetricWarning: Precision and F-score are ill-defined and being set to 0.0 in labels with no predicted samples. Use `zero_division` parameter to control this behavior.\n",
      "  _warn_prf(average, modifier, msg_start, len(result))\n",
      "/Users/aloksingh/anaconda3/lib/python3.11/site-packages/sklearn/metrics/_classification.py:1469: UndefinedMetricWarning: Precision and F-score are ill-defined and being set to 0.0 in labels with no predicted samples. Use `zero_division` parameter to control this behavior.\n",
      "  _warn_prf(average, modifier, msg_start, len(result))\n",
      "/Users/aloksingh/anaconda3/lib/python3.11/site-packages/sklearn/metrics/_classification.py:1469: UndefinedMetricWarning: Precision and F-score are ill-defined and being set to 0.0 in labels with no predicted samples. Use `zero_division` parameter to control this behavior.\n",
      "  _warn_prf(average, modifier, msg_start, len(result))\n"
     ]
    }
   ],
   "source": [
    "clf_RFC = RandomForestClassifier(n_estimators=200, max_depth=3, random_state=0).fit(X_train_tfidf, y_train)\n",
    "\n",
    "y_predicted = clf_RFC.predict(X_train_tfidf)\n",
    "print(metrics.classification_report(y_train, y_predicted))"
   ]
  },
  {
   "cell_type": "code",
   "execution_count": 15,
   "id": "b6fe76e2",
   "metadata": {},
   "outputs": [
    {
     "name": "stderr",
     "output_type": "stream",
     "text": [
      "/Users/aloksingh/anaconda3/lib/python3.11/site-packages/sklearn/model_selection/_split.py:725: UserWarning: The least populated class in y has only 4 members, which is less than n_splits=5.\n",
      "  warnings.warn(\n",
      "/Users/aloksingh/anaconda3/lib/python3.11/site-packages/sklearn/model_selection/_split.py:725: UserWarning: The least populated class in y has only 4 members, which is less than n_splits=5.\n",
      "  warnings.warn(\n",
      "/Users/aloksingh/anaconda3/lib/python3.11/site-packages/sklearn/svm/_classes.py:32: FutureWarning: The default value of `dual` will change from `True` to `'auto'` in 1.5. Set the value of `dual` explicitly to suppress the warning.\n",
      "  warnings.warn(\n",
      "/Users/aloksingh/anaconda3/lib/python3.11/site-packages/sklearn/svm/_classes.py:32: FutureWarning: The default value of `dual` will change from `True` to `'auto'` in 1.5. Set the value of `dual` explicitly to suppress the warning.\n",
      "  warnings.warn(\n",
      "/Users/aloksingh/anaconda3/lib/python3.11/site-packages/sklearn/svm/_classes.py:32: FutureWarning: The default value of `dual` will change from `True` to `'auto'` in 1.5. Set the value of `dual` explicitly to suppress the warning.\n",
      "  warnings.warn(\n",
      "/Users/aloksingh/anaconda3/lib/python3.11/site-packages/sklearn/svm/_classes.py:32: FutureWarning: The default value of `dual` will change from `True` to `'auto'` in 1.5. Set the value of `dual` explicitly to suppress the warning.\n",
      "  warnings.warn(\n",
      "/Users/aloksingh/anaconda3/lib/python3.11/site-packages/sklearn/svm/_classes.py:32: FutureWarning: The default value of `dual` will change from `True` to `'auto'` in 1.5. Set the value of `dual` explicitly to suppress the warning.\n",
      "  warnings.warn(\n",
      "/Users/aloksingh/anaconda3/lib/python3.11/site-packages/sklearn/model_selection/_split.py:725: UserWarning: The least populated class in y has only 4 members, which is less than n_splits=5.\n",
      "  warnings.warn(\n",
      "/Users/aloksingh/anaconda3/lib/python3.11/site-packages/sklearn/model_selection/_split.py:725: UserWarning: The least populated class in y has only 4 members, which is less than n_splits=5.\n",
      "  warnings.warn(\n"
     ]
    },
    {
     "data": {
      "image/png": "[encoded data removed]",
      "text/plain": [
       "<Figure size 640x480 with 1 Axes>"
      ]
     },
     "metadata": {},
     "output_type": "display_data"
    }
   ],
   "source": [
    "models = [\n",
    "    RandomForestClassifier(n_estimators=200, max_depth=3, random_state=0),\n",
    "    LinearSVC(),\n",
    "    MultinomialNB(),\n",
    "    LogisticRegression(fit_intercept=False),\n",
    "]\n",
    "CV = 5\n",
    "cv_df = pd.DataFrame(index=range(CV * len(models)))\n",
    "entries = []\n",
    "for model in models:\n",
    "  model_name = model.__class__.__name__\n",
    "  accuracies = cross_val_score(model, features, labels, scoring='accuracy', cv=CV)\n",
    "  for fold_idx, accuracy in enumerate(accuracies):\n",
    "    entries.append((model_name, fold_idx, accuracy))\n",
    "cv_df = pd.DataFrame(entries, columns=['model_name', 'fold_idx', 'accuracy'])\n",
    "import seaborn as sns\n",
    "sns.boxplot(x='model_name', y='accuracy', data=cv_df)\n",
    "sns.stripplot(x='model_name', y='accuracy', data=cv_df, \n",
    "              size=8, jitter=True, edgecolor=\"gray\", linewidth=2)\n",
    "plt.show()"
   ]
  },
  {
   "cell_type": "code",
   "execution_count": 16,
   "id": "89fdcc17",
   "metadata": {},
   "outputs": [
    {
     "data": {
      "text/plain": [
       "model_name\n",
       "LinearSVC                 0.905379\n",
       "LogisticRegression        0.881060\n",
       "MultinomialNB             0.883051\n",
       "RandomForestClassifier    0.395094\n",
       "Name: accuracy, dtype: float64"
      ]
     },
     "execution_count": 16,
     "metadata": {},
     "output_type": "execute_result"
    }
   ],
   "source": [
    "cv_df.groupby('model_name').accuracy.mean()"
   ]
  },
  {
   "cell_type": "code",
   "execution_count": 17,
   "id": "b26ce68b",
   "metadata": {},
   "outputs": [
    {
     "name": "stderr",
     "output_type": "stream",
     "text": [
      "/Users/aloksingh/anaconda3/lib/python3.11/site-packages/sklearn/svm/_classes.py:32: FutureWarning: The default value of `dual` will change from `True` to `'auto'` in 1.5. Set the value of `dual` explicitly to suppress the warning.\n",
      "  warnings.warn(\n"
     ]
    },
    {
     "data": {
      "image/png": "[encoded data removed]",
      "text/plain": [
       "<Figure size 1000x1000 with 2 Axes>"
      ]
     },
     "metadata": {},
     "output_type": "display_data"
    }
   ],
   "source": [
    "#model = LogisticRegression(fit_intercept=False)\n",
    "model = LinearSVC()\n",
    "X_train, X_test, y_train, y_test, indices_train, indices_test = train_test_split(features, labels, expense_data.index, test_size=0.25, random_state=0)\n",
    "model.fit(X_train, y_train)\n",
    "y_pred = model.predict(X_test)\n",
    "from sklearn.metrics import confusion_matrix\n",
    "conf_mat = confusion_matrix(y_test, y_pred)\n",
    "fig, ax = plt.subplots(figsize=(10,10))\n",
    "sns.heatmap(conf_mat, annot=True, fmt='d',\n",
    "            xticklabels=category_id_expense.Category.values, yticklabels=category_id_expense.Category.values)\n",
    "plt.ylabel('Actual')\n",
    "plt.xlabel('Predicted')\n",
    "plt.show()\n"
   ]
  },
  {
   "cell_type": "code",
   "execution_count": 18,
   "id": "fe88c63c",
   "metadata": {},
   "outputs": [
    {
     "name": "stderr",
     "output_type": "stream",
     "text": [
      "/var/folders/v0/gz626t394gj6jhy0b_p9pjyc0000gn/T/ipykernel_76842/540970275.py:4: NeptuneWarning: The following monitoring options are disabled by default in interactive sessions: 'capture_stdout', 'capture_stderr', 'capture_traceback', and 'capture_hardware_metrics'. To enable them, set each parameter to 'True' when initializing the run. The monitoring will continue until you call run.stop() or the kernel stops. Also note: Your source files can only be tracked if you pass the path(s) to the 'source_code' argument. For help, see the Neptune docs: https://docs.neptune.ai/logging/source_code/\n",
      "  run = neptune.init_run(\n"
     ]
    },
    {
     "name": "stdout",
     "output_type": "stream",
     "text": [
      "https://app.neptune.ai/home-stack/ExpenseCategorization/e/EXCAT-11\n",
      "This classifier does not provide predictions probabilities. Error: 'LinearSVC' object has no attribute 'predict_proba'\n"
     ]
    },
    {
     "name": "stderr",
     "output_type": "stream",
     "text": [
      "/Users/aloksingh/anaconda3/lib/python3.11/site-packages/sklearn/metrics/_classification.py:1469: UndefinedMetricWarning: Precision and F-score are ill-defined and being set to 0.0 in labels with no predicted samples. Use `zero_division` parameter to control this behavior.\n",
      "  _warn_prf(average, modifier, msg_start, len(result))\n",
      "/Users/aloksingh/anaconda3/lib/python3.11/site-packages/sklearn/metrics/_classification.py:1469: UndefinedMetricWarning: Precision and F-score are ill-defined and being set to 0.0 in labels with no predicted samples. Use `zero_division` parameter to control this behavior.\n",
      "  _warn_prf(average, modifier, msg_start, len(result))\n"
     ]
    },
    {
     "name": "stdout",
     "output_type": "stream",
     "text": [
      "Did not log Precision-Recall chart: this classifier does not provide predictions probabilities.Error 'LinearSVC' object has no attribute 'predict_proba'\n",
      "Shutting down background jobs, please wait a moment...\n"
     ]
    },
    {
     "name": "stderr",
     "output_type": "stream",
     "text": [
      "/var/folders/v0/gz626t394gj6jhy0b_p9pjyc0000gn/T/ipykernel_76842/540970275.py:13: NeptuneUnsupportedType: You're attempting to log a type that is not directly supported by Neptune (<class 'NoneType'>).\n",
      "        Convert the value to a supported type, such as a string or float, or use stringify_unsupported(obj)\n",
      "        for dictionaries or collections that contain unsupported values.\n",
      "        For more, see https://docs.neptune.ai/help/value_of_unsupported_type\n",
      "  run[\"classifier\"] = npt_utils.create_classifier_summary(\n"
     ]
    },
    {
     "name": "stdout",
     "output_type": "stream",
     "text": [
      "Done!\n",
      "Waiting for the remaining 111 operations to synchronize with Neptune. Do not kill this process.\n",
      "All 111 operations synced, thanks for waiting!\n",
      "Explore the metadata in the Neptune app:\n",
      "https://app.neptune.ai/home-stack/ExpenseCategorization/e/EXCAT-11/metadata\n"
     ]
    }
   ],
   "source": [
    "import neptune\n",
    "import neptune.integrations.sklearn as npt_utils\n",
    "\n",
    "run = neptune.init_run(\n",
    "    project=\"home-stack/ExpenseCategorization\",\n",
    "    api_token=\"eyJhcGlfYWRkcmVzcyI6Imh0dHBzOi8vYXBwLm5lcHR1bmUuYWkiLCJhcGlfdXJsIjoiaHR0cHM6Ly9hcHAubmVwdHVuZS5haSIsImFwaV9rZXkiOiIwNTYyODcyOC1kZDMxLTQyMWUtOWM1NS04MmM0NDQ1NmNjYjkifQ==\",\n",
    ")  # your credentials\n",
    "\n",
    "# Neptune integration with scikit-learn works with\n",
    "# the regression and classification problems as well.\n",
    "# Check the user guide in the documentation for more details:\n",
    "# https://docs.neptune.ai/integrations/sklearn\n",
    "run[\"classifier\"] = npt_utils.create_classifier_summary(\n",
    "    model, X_train, X_test, y_train, y_test\n",
    ")\n",
    "\n",
    "run.stop()"
   ]
  },
  {
   "cell_type": "code",
   "execution_count": 19,
   "id": "95ec9d1a",
   "metadata": {},
   "outputs": [
    {
     "name": "stdout",
     "output_type": "stream",
     "text": [
      "https://app.neptune.ai/home-stack/ExpenseCategorization/m/EXCAT-EXCAT/v/EXCAT-EXCAT-9\n"
     ]
    }
   ],
   "source": [
    "import neptune\n",
    "model_version = neptune.init_model_version(\n",
    "    model=\"EXCAT-EXCAT\",\n",
    "    project=\"home-stack/ExpenseCategorization\",\n",
    "    api_token=\"eyJhcGlfYWRkcmVzcyI6Imh0dHBzOi8vYXBwLm5lcHR1bmUuYWkiLCJhcGlfdXJsIjoiaHR0cHM6Ly9hcHAubmVwdHVuZS5haSIsImFwaV9rZXkiOiIwNTYyODcyOC1kZDMxLTQyMWUtOWM1NS04MmM0NDQ1NmNjYjkifQ==\", # your credentials\n",
    ")\n",
    "\n",
    "model_version[\"model\"].upload('/Users/aloksingh/git/expense-catecorization/expense-categorization-LSVC-mdl.joblib')\n",
    "#model_version[\"validation/dataset\"].track_files(\"s3://datasets/validation\")\n",
    "#model_version[\"validation/acc\"] = 0.97\n",
    "\n",
    "model_version.change_stage(\"staging\")"
   ]
  },
  {
   "cell_type": "code",
   "execution_count": 20,
   "id": "d2d2d4f1",
   "metadata": {},
   "outputs": [
    {
     "name": "stdout",
     "output_type": "stream",
     "text": [
      "\n"
     ]
    }
   ],
   "source": [
    "#pd.options.display.float_format = '{:,.2f}'.format\n",
    "#test_data = pd.read_csv(\"~/Downloads/Expense Sheet - Categorized.csv\").drop(columns=['Timestamp', 'Amount', 'Month', 'Year', 'Category', 'Comment']);\n",
    "test_data = pd.read_csv(\"~/Downloads/Expense Sheet - Categorized.csv\")\n",
    "test_data.head()\n",
    "print()\n",
    "\n",
    "#expense_data['category_id'] = expense_data['Category'].factorize()[0]\n",
    "#clf.predict(count_vect.transform(list(test_data)))\n",
    "#test_data['predicted'] = clf.predict(test_data['Head'].factorize()[0])\n",
    "\n",
    "#test_data.groupby(['predicted']).sum()\n",
    "#test_data.groupby(['predicted']).sum().plot.pie( subplots=True,figsize=(5, 5))"
   ]
  },
  {
   "cell_type": "code",
   "execution_count": 21,
   "id": "a687b4ba",
   "metadata": {},
   "outputs": [
    {
     "data": {
      "text/plain": [
       "array([[1, 1, 1, 1, 0, 1, 0, 0],\n",
       "       [1, 2, 0, 1, 1, 1, 0, 0],\n",
       "       [1, 0, 0, 1, 0, 1, 1, 1],\n",
       "       [1, 1, 1, 1, 0, 1, 0, 0]])"
      ]
     },
     "execution_count": 21,
     "metadata": {},
     "output_type": "execute_result"
    }
   ],
   "source": [
    "from sklearn.feature_extraction.text import TfidfTransformer\n",
    "from sklearn.feature_extraction.text import CountVectorizer\n",
    "from sklearn.pipeline import Pipeline\n",
    "corpus = ['this is the first document',\n",
    "          'this document is the second document',\n",
    "          'and this is the third one',\n",
    "          'is this the first document']\n",
    "vocabulary = ['this', 'document', 'first', 'is', 'second', 'the',\n",
    "              'and', 'one']\n",
    "pipe = Pipeline([('count', CountVectorizer(vocabulary=vocabulary)),\n",
    "                 ('tfid', TfidfTransformer())]).fit(corpus)\n",
    "pipe['count'].transform(corpus).toarray()\n"
   ]
  },
  {
   "cell_type": "code",
   "execution_count": 22,
   "id": "2f8a4403",
   "metadata": {},
   "outputs": [
    {
     "data": {
      "text/plain": [
       "(4, 8)"
      ]
     },
     "execution_count": 22,
     "metadata": {},
     "output_type": "execute_result"
    }
   ],
   "source": [
    "pipe['tfid'].idf_\n",
    "pipe.transform(corpus).shape"
   ]
  },
  {
   "cell_type": "code",
   "execution_count": null,
   "id": "3e02004a",
   "metadata": {},
   "outputs": [],
   "source": []
  }
 ],
 "metadata": {
  "kernelspec": {
   "display_name": "Python 3 (ipykernel)",
   "language": "python",
   "name": "python3"
  },
  "language_info": {
   "codemirror_mode": {
    "name": "ipython",
    "version": 3
   },
   "file_extension": ".py",
   "mimetype": "text/x-python",
   "name": "python",
   "nbconvert_exporter": "python",
   "pygments_lexer": "ipython3",
   "version": "3.11.5"
  }
 },
 "nbformat": 4,
 "nbformat_minor": 5
}
